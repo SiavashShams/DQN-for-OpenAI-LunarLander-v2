{
  "cells": [
    {
      "cell_type": "code",
      "execution_count": null,
      "metadata": {
        "colab": {
          "base_uri": "https://localhost:8080/"
        },
        "id": "B5S1SyylO8VI",
        "outputId": "26febf65-87fe-4ada-9ad9-11aa44403476"
      },
      "outputs": [
        {
          "output_type": "stream",
          "name": "stdout",
          "text": [
            "Looking in indexes: https://pypi.org/simple, https://us-python.pkg.dev/colab-wheels/public/simple/\n",
            "Requirement already satisfied: gym in /usr/local/lib/python3.7/dist-packages (0.17.3)\n",
            "Collecting gym\n",
            "  Downloading gym-0.23.1.tar.gz (626 kB)\n",
            "\u001b[K     |████████████████████████████████| 626 kB 4.8 MB/s \n",
            "\u001b[?25h  Installing build dependencies ... \u001b[?25l\u001b[?25hdone\n",
            "  Getting requirements to build wheel ... \u001b[?25l\u001b[?25hdone\n",
            "    Preparing wheel metadata ... \u001b[?25l\u001b[?25hdone\n",
            "Requirement already satisfied: importlib-metadata>=4.10.0 in /usr/local/lib/python3.7/dist-packages (from gym) (4.11.3)\n",
            "Requirement already satisfied: numpy>=1.18.0 in /usr/local/lib/python3.7/dist-packages (from gym) (1.21.6)\n",
            "Collecting gym-notices>=0.0.4\n",
            "  Downloading gym_notices-0.0.6-py3-none-any.whl (2.7 kB)\n",
            "Requirement already satisfied: cloudpickle>=1.2.0 in /usr/local/lib/python3.7/dist-packages (from gym) (1.3.0)\n",
            "Requirement already satisfied: zipp>=0.5 in /usr/local/lib/python3.7/dist-packages (from importlib-metadata>=4.10.0->gym) (3.8.0)\n",
            "Requirement already satisfied: typing-extensions>=3.6.4 in /usr/local/lib/python3.7/dist-packages (from importlib-metadata>=4.10.0->gym) (4.2.0)\n",
            "Building wheels for collected packages: gym\n",
            "  Building wheel for gym (PEP 517) ... \u001b[?25l\u001b[?25hdone\n",
            "  Created wheel for gym: filename=gym-0.23.1-py3-none-any.whl size=701378 sha256=db77b9556e06d5e650d802397b7d0d875332110131ea7a694e5fba06fdb31908\n",
            "  Stored in directory: /root/.cache/pip/wheels/e3/33/04/6723848e46f0f1ebe794bb329b7c761c3329a0d7ffade99da7\n",
            "Successfully built gym\n",
            "Installing collected packages: gym-notices, gym\n",
            "  Attempting uninstall: gym\n",
            "    Found existing installation: gym 0.17.3\n",
            "    Uninstalling gym-0.17.3:\n",
            "      Successfully uninstalled gym-0.17.3\n",
            "Successfully installed gym-0.23.1 gym-notices-0.0.6\n",
            "Looking in indexes: https://pypi.org/simple, https://us-python.pkg.dev/colab-wheels/public/simple/\n",
            "Requirement already satisfied: pyglet in /usr/local/lib/python3.7/dist-packages (1.5.0)\n",
            "Requirement already satisfied: future in /usr/local/lib/python3.7/dist-packages (from pyglet) (0.16.0)\n",
            "Looking in indexes: https://pypi.org/simple, https://us-python.pkg.dev/colab-wheels/public/simple/\n",
            "Collecting Box2D\n",
            "  Downloading Box2D-2.3.10-cp37-cp37m-manylinux1_x86_64.whl (1.3 MB)\n",
            "\u001b[K     |████████████████████████████████| 1.3 MB 5.1 MB/s \n",
            "\u001b[?25hInstalling collected packages: Box2D\n",
            "Successfully installed Box2D-2.3.10\n",
            "Looking in indexes: https://pypi.org/simple, https://us-python.pkg.dev/colab-wheels/public/simple/\n",
            "Collecting box2d-py\n",
            "  Downloading box2d_py-2.3.8-cp37-cp37m-manylinux1_x86_64.whl (448 kB)\n",
            "\u001b[K     |████████████████████████████████| 448 kB 5.4 MB/s \n",
            "\u001b[?25hInstalling collected packages: box2d-py\n",
            "Successfully installed box2d-py-2.3.8\n",
            "Looking in indexes: https://pypi.org/simple, https://us-python.pkg.dev/colab-wheels/public/simple/\n",
            "Requirement already satisfied: gym[Box_2D] in /usr/local/lib/python3.7/dist-packages (0.23.1)\n",
            "\u001b[33mWARNING: gym 0.23.1 does not provide the extra 'box_2d'\u001b[0m\n",
            "Requirement already satisfied: numpy>=1.18.0 in /usr/local/lib/python3.7/dist-packages (from gym[Box_2D]) (1.21.6)\n",
            "Requirement already satisfied: cloudpickle>=1.2.0 in /usr/local/lib/python3.7/dist-packages (from gym[Box_2D]) (1.3.0)\n",
            "Requirement already satisfied: gym-notices>=0.0.4 in /usr/local/lib/python3.7/dist-packages (from gym[Box_2D]) (0.0.6)\n",
            "Requirement already satisfied: importlib-metadata>=4.10.0 in /usr/local/lib/python3.7/dist-packages (from gym[Box_2D]) (4.11.3)\n",
            "Requirement already satisfied: zipp>=0.5 in /usr/local/lib/python3.7/dist-packages (from importlib-metadata>=4.10.0->gym[Box_2D]) (3.8.0)\n",
            "Requirement already satisfied: typing-extensions>=3.6.4 in /usr/local/lib/python3.7/dist-packages (from importlib-metadata>=4.10.0->gym[Box_2D]) (4.2.0)\n",
            "Looking in indexes: https://pypi.org/simple, https://us-python.pkg.dev/colab-wheels/public/simple/\n",
            "Requirement already satisfied: gym[box2d] in /usr/local/lib/python3.7/dist-packages (0.23.1)\n",
            "Requirement already satisfied: numpy>=1.18.0 in /usr/local/lib/python3.7/dist-packages (from gym[box2d]) (1.21.6)\n",
            "Requirement already satisfied: gym-notices>=0.0.4 in /usr/local/lib/python3.7/dist-packages (from gym[box2d]) (0.0.6)\n",
            "Requirement already satisfied: importlib-metadata>=4.10.0 in /usr/local/lib/python3.7/dist-packages (from gym[box2d]) (4.11.3)\n",
            "Requirement already satisfied: cloudpickle>=1.2.0 in /usr/local/lib/python3.7/dist-packages (from gym[box2d]) (1.3.0)\n",
            "Collecting pygame==2.1.0\n",
            "  Downloading pygame-2.1.0-cp37-cp37m-manylinux_2_17_x86_64.manylinux2014_x86_64.whl (18.3 MB)\n",
            "\u001b[K     |████████████████████████████████| 18.3 MB 98 kB/s \n",
            "\u001b[?25hCollecting box2d-py==2.3.5\n",
            "  Downloading box2d_py-2.3.5-cp37-cp37m-manylinux1_x86_64.whl (2.1 MB)\n",
            "\u001b[K     |████████████████████████████████| 2.1 MB 31.4 MB/s \n",
            "\u001b[?25hRequirement already satisfied: zipp>=0.5 in /usr/local/lib/python3.7/dist-packages (from importlib-metadata>=4.10.0->gym[box2d]) (3.8.0)\n",
            "Requirement already satisfied: typing-extensions>=3.6.4 in /usr/local/lib/python3.7/dist-packages (from importlib-metadata>=4.10.0->gym[box2d]) (4.2.0)\n",
            "Installing collected packages: pygame, box2d-py\n",
            "  Attempting uninstall: box2d-py\n",
            "    Found existing installation: box2d-py 2.3.8\n",
            "    Uninstalling box2d-py-2.3.8:\n",
            "      Successfully uninstalled box2d-py-2.3.8\n",
            "Successfully installed box2d-py-2.3.5 pygame-2.1.0\n"
          ]
        }
      ],
      "source": [
        "# install dependencies\n",
        "!pip3 install gym --upgrade\n",
        "!pip3 install pyglet\n",
        "!pip3 install Box2D\n",
        "!pip3 install box2d-py\n",
        "!pip3 install gym[Box_2D]\n",
        "!pip3 install gym[box2d]"
      ]
    },
    {
      "cell_type": "code",
      "execution_count": null,
      "metadata": {
        "colab": {
          "base_uri": "https://localhost:8080/"
        },
        "id": "V5j3em8QPiXT",
        "outputId": "a40b88e4-b31a-4631-e945-f2d0eddaa44c"
      },
      "outputs": [
        {
          "output_type": "execute_result",
          "data": {
            "text/plain": [
              "device(type='cuda')"
            ]
          },
          "metadata": {},
          "execution_count": 2
        }
      ],
      "source": [
        "import torch\n",
        "# if gpu is to be used\n",
        "device = torch.device(\"cuda\" if torch.cuda.is_available() else \"cpu\")\n",
        "device"
      ]
    },
    {
      "cell_type": "code",
      "execution_count": null,
      "metadata": {
        "colab": {
          "base_uri": "https://localhost:8080/"
        },
        "id": "AMgs5pl6Psif",
        "outputId": "cf8060c5-b194-44b3-f4bf-c50d839080ab"
      },
      "outputs": [
        {
          "output_type": "stream",
          "name": "stdout",
          "text": [
            "Action space size: Discrete(4)\n",
            "State space size:  8\n"
          ]
        }
      ],
      "source": [
        "# enviroment\n",
        "import gym\n",
        "\n",
        "env = gym.make('LunarLander-v2')\n",
        "print(\"Action space size:\", env.action_space)\n",
        "print(\"State space size: \", env.observation_space.shape[0])\n",
        "state_size = 8  #TODO: find observation size\n",
        "action_size = 4 #TODO: find action size"
      ]
    },
    {
      "cell_type": "code",
      "execution_count": null,
      "metadata": {
        "id": "-cVE_4EtPyNz"
      },
      "outputs": [],
      "source": [
        "# experience replay\n",
        "import random\n",
        "from collections import namedtuple, deque\n",
        "\n",
        "Transition = namedtuple('Transition',\n",
        "                        ('state', 'action', 'next_state', 'reward', 'done'))\n",
        "\n",
        "class ExperienceReplay():\n",
        "    def __init__(self, capacity) -> None:\n",
        "        self.memory = deque([], maxlen=capacity)\n",
        "\n",
        "    def store_trans(self, s, a, sp, r, done):\n",
        "        # TODO: store new transition in memory\n",
        "        exp = Transition(s, a, r, sp, done)\n",
        "        self.memory.append(exp)\n",
        "        pass\n",
        "\n",
        "    def sample(self, batch_size):\n",
        "        # TODO: take RANDOM sample from memory\n",
        "        sample_exp = random.sample(self.memory, batch_size)\n",
        "        states = torch.from_numpy(np.vstack([exp.state for exp in sample_exp if exp is not None])).float().to(device)\n",
        "        actions = torch.from_numpy(np.vstack([exp.action for exp in sample_exp if exp is not None])).long().to(device)\n",
        "        rewards = torch.from_numpy(np.vstack([exp.reward for exp in sample_exp if exp is not None])).float().to(device)\n",
        "        next_states = torch.from_numpy(np.vstack([exp.next_state for exp in sample_exp if exp is not None])).float().to(\n",
        "            device)\n",
        "        dones = torch.from_numpy(np.vstack([exp.done for exp in sample_exp if exp is not None]).astype(np.uint8)).float().to(\n",
        "            device)\n",
        "\n",
        "        return (states, actions, rewards, next_states, dones)\n",
        "\n",
        "    def __len__(self):\n",
        "        return len(self.memory)"
      ]
    },
    {
      "cell_type": "code",
      "execution_count": null,
      "metadata": {
        "id": "pUgDbqH4NWYZ"
      },
      "outputs": [],
      "source": [
        "# DQN\n",
        "import numpy as np\n",
        "import torch\n",
        "import torch.nn as nn\n",
        "import torch.nn.functional as F\n",
        "import torch.optim as optim\n",
        "\n",
        "class DeepQNetwork(nn.Module):\n",
        "    def __init__(self, state_size, action_size) -> None:\n",
        "        super(DeepQNetwork, self).__init__()\n",
        "        # TODO: define the architecture\n",
        "        self.fc1 = nn.Linear(state_size, 64)\n",
        "        self.fc2 = nn.Linear(64, 64)\n",
        "        self.fc3 = nn.Linear(64, action_size)\n",
        "        # NOTE: input=observation/state, output=action\n",
        "        pass\n",
        "\n",
        "    def forward(self, x):\n",
        "        # TODO: forward propagation\n",
        "        \"\"\"Build a network that maps state -> action values.\"\"\"\n",
        "        x = self.fc1(x)\n",
        "        x = F.relu(x)\n",
        "        x = self.fc2(x)\n",
        "        x = F.relu(x)\n",
        "        return self.fc3(x)\n",
        "        # NOTE: use ReLu for activation function in all layers\n",
        "        # NOTE: last layer has no activation function (predict action)\n",
        "        pass"
      ]
    },
    {
      "cell_type": "markdown",
      "metadata": {
        "id": "wgMI1JCLMuaf"
      },
      "source": [
        "## DQN"
      ]
    },
    {
      "cell_type": "code",
      "execution_count": null,
      "metadata": {
        "id": "mxLkRp2_P05m"
      },
      "outputs": [],
      "source": [
        "# DQN agent\n",
        "import numpy as np\n",
        "import torch\n",
        "import torch.nn as nn\n",
        "import torch.nn.functional as F\n",
        "import torch.optim as optim\n",
        "\n",
        "class DQNAgent():\n",
        "    # NOTE: DON'T change initial values\n",
        "    def __init__(self, state_size, action_size, batch_size,\n",
        "                 gamma=0.99, buffer_size=25000, alpha=5e-4):\n",
        "        # network parameter\n",
        "        self.state_size = state_size\n",
        "        self.action_size = action_size\n",
        "\n",
        "        # hyperparameters\n",
        "        self.batch_size = batch_size\n",
        "        self.gamma = gamma\n",
        "\n",
        "        # experience replay\n",
        "        self.experience_replay = ExperienceReplay(buffer_size)\n",
        "\n",
        "        # network\n",
        "        self.value_net = DeepQNetwork(state_size, action_size).to(device)\n",
        "\n",
        "        # optimizer\n",
        "        # TODO: create adam for optimizing network's parameter (learning rate=alpha)\n",
        "        self.optimizer = optim.Adam(self.value_net.parameters(), lr=alpha)\n",
        "\n",
        "\n",
        "    def take_action(self, state, eps=0.0):\n",
        "        # TODO: take action using e-greedy policy\n",
        "        state = torch.from_numpy(state).float().unsqueeze(0).to(device)\n",
        "        self.value_net.eval()\n",
        "        with torch.no_grad():\n",
        "            action_values = self.value_net(state)\n",
        "        self.value_net.train()\n",
        "\n",
        "        if random.random() > eps:\n",
        "            return np.argmax(action_values.cpu().data.numpy())\n",
        "        else:\n",
        "            return random.choice(np.arange(self.action_size))\n",
        "        # NOTE: takes action using the greedy policy with a probability of 1−𝜖 and a random action with a probability of 𝜖\n",
        "        # NOTE:\n",
        "\n",
        "    def update_params(self):\n",
        "        if len(self.experience_replay) < self.batch_size:\n",
        "            return\n",
        "        # transition batch\n",
        "        #batch = Transition(*zip(*self.experience_replay.sample(self.batch_size))) #gives error for my code\n",
        "        #batch = random.sample(self.experience_replay.memory, k=self.batch_size)\n",
        "        bbatch=agent.experience_replay.sample(self.batch_size)\n",
        "        batch = Transition(bbatch[0],bbatch[1],bbatch[3],bbatch[2],bbatch[4])\n",
        "        \"\"\"\n",
        "        state_batch = torch.from_numpy(np.vstack([e.state for e in batch if e is not None])).float().to(device)\n",
        "        action_batch = torch.tensor(np.vstack([e.action for e in batch if e is not None])).long().to(device)\n",
        "        next_state_batch = torch.from_numpy(np.vstack([e.next_state for e in batch if e is not None])).float().to(device)\n",
        "        reward_batch = torch.tensor(np.vstack([e.reward for e in batch if e is not None])).float().to(device)\n",
        "        done_batch = torch.tensor(np.vstack([e.done for e in batch if e is not None]).astype(np.uint8)).float().to(device)\n",
        "        \"\"\"\n",
        "        state_batch = (batch.state.cpu()).float().to(device)\n",
        "        action_batch =(batch.action.cpu()).long().to(device)\n",
        "        next_state_batch = (batch.next_state.cpu()).float().to(device)\n",
        "        reward_batch = (batch.reward.cpu()).float().to(device)\n",
        "        done_batch = (batch.done.cpu()).to(device)\n",
        "        \n",
        "        # calculate loss w.r.t DQN algorithm\n",
        "\n",
        "        # STEP1\n",
        "        # TODO: compute the expected Q values [y]\n",
        "        q_expected = self.value_net(state_batch).gather(1, action_batch)\n",
        "\n",
        "        # STEP2\n",
        "        # TODO: compute Q values [Q(s_t, a)]\n",
        "        Q_max = self.value_net(next_state_batch).detach().max(1)[0].unsqueeze(1)\n",
        "        q_table = reward_batch + self.gamma * Q_max * (1 - done_batch)\n",
        "        # STEP3\n",
        "        # TODO: compute mse loss\n",
        "        loss = F.mse_loss(q_expected, q_table)\n",
        "\n",
        "        # TODO: optimize the model\n",
        "        self.optimizer.zero_grad()\n",
        "        loss.backward()\n",
        "        self.optimizer.step()\n",
        "        # NOTE: DON'T forget to set the gradients to zeros\n",
        "\n",
        "    def save(self, fname):\n",
        "        # TODO: save checkpoint\n",
        "        torch.save(agent.value_net.state_dict(), fname + \".pth\")\n",
        "\n",
        "    def load(self, fname, device):\n",
        "        # TODO: load checkpoint\n",
        "        agent.value_net.load_state_dict(torch.load(fname + \".pth\"))\n",
        "        "
      ]
    },
    {
      "cell_type": "code",
      "execution_count": null,
      "metadata": {
        "id": "sqAOFUBb90wh"
      },
      "outputs": [],
      "source": [
        "# NOTE: DON'T change values\n",
        "n_episodes = 250\n",
        "eps = 1.0\n",
        "eps_decay_rate = 0.99\n",
        "eps_end = 0.01"
      ]
    },
    {
      "cell_type": "code",
      "execution_count": null,
      "metadata": {
        "colab": {
          "base_uri": "https://localhost:8080/"
        },
        "id": "ScM-yfC1P3md",
        "outputId": "751b47f3-86c9-498d-a9c2-e7aebbef7112"
      },
      "outputs": [
        {
          "output_type": "stream",
          "name": "stdout",
          "text": [
            "Episode 25\tAverage Reward: -179.79\tEpsilon: 0.78\n",
            "Checkpoint 1 saved\n",
            "Episode 50\tAverage Reward: -95.54\tEpsilon: 0.61\n",
            "Episode 75\tAverage Reward: -79.98\tEpsilon: 0.47\n",
            "Checkpoint 2 saved\n",
            "Episode 100\tAverage Reward: -62.30\tEpsilon: 0.37\n",
            "Episode 125\tAverage Reward: 16.02\tEpsilon: 0.28\n",
            "Checkpoint 3 saved\n",
            "Episode 150\tAverage Reward: 76.03\tEpsilon: 0.22\n",
            "Episode 175\tAverage Reward: 35.79\tEpsilon: 0.17\n",
            "Checkpoint 4 saved\n",
            "Episode 200\tAverage Reward: 142.14\tEpsilon: 0.13\n",
            "Episode 225\tAverage Reward: 79.54\tEpsilon: 0.10\n",
            "Checkpoint 5 saved\n",
            "Episode 250\tAverage Reward: 154.96\tEpsilon: 0.08\n"
          ]
        }
      ],
      "source": [
        "# training phase\n",
        "# TODO: create agent\n",
        "bs=64\n",
        "agent = DQNAgent(state_size=8, action_size=4, batch_size=bs)\n",
        "crs = np.zeros(n_episodes) # cummulative rewards\n",
        "crs_recent = deque(maxlen=25) # recent cummulative rewards\n",
        "z=1\n",
        "# training loop\n",
        "for i_episode in range(1, n_episodes+1):\n",
        "    # TODO: initialize the environment and state\n",
        "    state = env.reset()\n",
        "    cr = 0 # episode cummulative rewards\n",
        "    done = 0\n",
        "    while not done:\n",
        "        # TODO: select and perform an action\n",
        "        action = agent.take_action(state, eps)\n",
        "        next_state, reward, done, _ = env.step(action)\n",
        "        # TODO: store transition in experience replay\n",
        "        agent.experience_replay.store_trans(state,action,reward,next_state,done)\n",
        "        # TODO: update agent\n",
        "        agent.update_params()\n",
        "        # TODO: update current state and episode cummulative rewards\n",
        "        cr += reward\n",
        "        state = next_state\n",
        "    # TODO: decay epsilon\n",
        "    eps = max(eps_decay_rate*eps,eps_end)\n",
        "    # TODO: update current cummulative rewards and recent cummulative rewards\n",
        "    crs_recent.append(cr)       \n",
        "    crs[i_episode-1] = cr             \n",
        "    # TODO: save agent every 50 episodes\n",
        "    if i_episode % 50 == 0:\n",
        "      agent.save(\"ckpt\" + str(i_episode//50))\n",
        "      print(\"\\rCheckpoint\",i_episode//50, \"saved\")\n",
        "    #print logs\n",
        "    print('\\rEpisode {}\\tAverage Reward: {:.2f}\\tEpsilon: {:.2f}'.format(i_episode, np.mean(crs_recent), eps), end=\"\")\n",
        "    if i_episode % 25 == 0:\n",
        "        print('\\rEpisode {}\\tAverage Reward: {:.2f}\\tEpsilon: {:.2f}'.format(i_episode, np.mean(crs_recent), eps))\n",
        "    if (np.mean(crs_recent) and z) >=200:\n",
        "      print(\"\\nSolved\")\n",
        "      z=0\n",
        "      #break"
      ]
    },
    {
      "cell_type": "code",
      "source": [
        "# plot the scores\n",
        "# batch 32\n",
        "import matplotlib.pyplot as plt\n",
        "plt.figure()\n",
        "plt.plot(crs[0:i_episode])\n",
        "plt.ylabel('Score')\n",
        "plt.xlabel('Episode')\n",
        "from scipy.signal import savgol_filter\n",
        "yhat = savgol_filter(crs[0:i_episode], 51, 3) # window size 51, polynomial order 3\n",
        "plt.plot(yhat,color=\"red\")\n",
        "plt.show()\n"
      ],
      "metadata": {
        "colab": {
          "base_uri": "https://localhost:8080/",
          "height": 279
        },
        "id": "WFEIHKT_HmuR",
        "outputId": "1440d778-72a5-406e-b14e-bf7d5f47be81"
      },
      "execution_count": null,
      "outputs": [
        {
          "output_type": "display_data",
          "data": {
            "text/plain": [
              "<Figure size 432x288 with 1 Axes>"
            ],
            "image/png": "[encoded data removed]"
          },
          "metadata": {
            "needs_background": "light"
          }
        }
      ]
    },
    {
      "cell_type": "code",
      "source": [
        "# training phase\n",
        "# TODO: create agent\n",
        "bs=64\n",
        "agent = DQNAgent(state_size=8, action_size=4, batch_size=bs)\n",
        "crs = np.zeros(n_episodes) # cummulative rewards\n",
        "crs_recent = deque(maxlen=25) # recent cummulative rewards\n",
        "z=1\n",
        "# training loop\n",
        "for i_episode in range(1, n_episodes+1):\n",
        "    # TODO: initialize the environment and state\n",
        "    state = env.reset()\n",
        "    cr = 0 # episode cummulative rewards\n",
        "    done = 0\n",
        "    while not done:\n",
        "        # TODO: select and perform an action\n",
        "        action = agent.take_action(state, eps)\n",
        "        next_state, reward, done, _ = env.step(action)\n",
        "        # TODO: store transition in experience replay\n",
        "        agent.experience_replay.store_trans(state,action,reward,next_state,done)\n",
        "        # TODO: update agent\n",
        "        agent.update_params()\n",
        "        # TODO: update current state and episode cummulative rewards\n",
        "        cr += reward\n",
        "        state = next_state\n",
        "    # TODO: decay epsilon\n",
        "    eps = max(eps_decay_rate*eps,eps_end)\n",
        "    # TODO: update current cummulative rewards and recent cummulative rewards\n",
        "    crs_recent.append(cr)       \n",
        "    crs[i_episode-1] = cr             \n",
        "    # TODO: save agent every 50 episodes\n",
        "    if i_episode % 50 == 0:\n",
        "      agent.save(\"ckpt\" + str(i_episode//50))\n",
        "      print(\"\\rCheckpoint\",i_episode//50, \"saved\")\n",
        "    #print logs\n",
        "    print('\\rEpisode {}\\tAverage Reward: {:.2f}\\tEpsilon: {:.2f}'.format(i_episode, np.mean(crs_recent), eps), end=\"\")\n",
        "    if i_episode % 25 == 0:\n",
        "        print('\\rEpisode {}\\tAverage Reward: {:.2f}\\tEpsilon: {:.2f}'.format(i_episode, np.mean(crs_recent), eps))\n",
        "    if (np.mean(crs_recent) and z) >=200:\n",
        "      print(\"\\nSolved\")\n",
        "      z=0\n",
        "      #break"
      ],
      "metadata": {
        "id": "aGqaNKRdlrsu"
      },
      "execution_count": null,
      "outputs": []
    },
    {
      "cell_type": "code",
      "source": [
        "# plot the scores\n",
        "# batch 64\n",
        "import matplotlib.pyplot as plt\n",
        "plt.figure()\n",
        "plt.plot(crs[0:i_episode])\n",
        "plt.ylabel('Score')\n",
        "plt.xlabel('Episode')\n",
        "from scipy.signal import savgol_filter\n",
        "yhat = savgol_filter(crs[0:i_episode], 51, 3) # window size 51, polynomial order 3\n",
        "plt.plot(yhat,color=\"red\")\n",
        "plt.show()"
      ],
      "metadata": {
        "colab": {
          "base_uri": "https://localhost:8080/",
          "height": 279
        },
        "id": "LLcVidAcHYiw",
        "outputId": "83827b23-e1a0-4184-d84b-28d78487a849"
      },
      "execution_count": null,
      "outputs": [
        {
          "output_type": "display_data",
          "data": {
            "text/plain": [
              "<Figure size 432x288 with 1 Axes>"
            ],
            "image/png": "[encoded data removed]"
          },
          "metadata": {
            "needs_background": "light"
          }
        }
      ]
    },
    {
      "cell_type": "code",
      "source": [
        "from google.colab import files\n",
        "files.download(\"ckpt1.pth\")\n",
        "files.download(\"ckpt2.pth\")\n",
        "files.download(\"ckpt3.pth\")\n",
        "files.download(\"ckpt4.pth\")\n",
        "files.download(\"ckpt5.pth\")"
      ],
      "metadata": {
        "id": "3oPPcuwFl0hO"
      },
      "execution_count": null,
      "outputs": []
    },
    {
      "cell_type": "code",
      "source": [
        "# training phase\n",
        "# TODO: create agent\n",
        "bs=128\n",
        "agent = DQNAgent(state_size=8, action_size=4, batch_size=bs)\n",
        "crs = np.zeros(n_episodes) # cummulative rewards\n",
        "crs_recent = deque(maxlen=25) # recent cummulative rewards\n",
        "z=1\n",
        "# training loop\n",
        "for i_episode in range(1, n_episodes+1):\n",
        "    # TODO: initialize the environment and state\n",
        "    state = env.reset()\n",
        "    cr = 0 # episode cummulative rewards\n",
        "    done = 0\n",
        "    while not done:\n",
        "        # TODO: select and perform an action\n",
        "        action = agent.take_action(state, eps)\n",
        "        next_state, reward, done, _ = env.step(action)\n",
        "        # TODO: store transition in experience replay\n",
        "        agent.experience_replay.store_trans(state,action,reward,next_state,done)\n",
        "        # TODO: update agent\n",
        "        agent.update_params()\n",
        "        # TODO: update current state and episode cummulative rewards\n",
        "        cr += reward\n",
        "        state = next_state\n",
        "    # TODO: decay epsilon\n",
        "    eps = max(eps_decay_rate*eps,eps_end)\n",
        "    # TODO: update current cummulative rewards and recent cummulative rewards\n",
        "    crs_recent.append(cr)       \n",
        "    crs[i_episode-1] = cr             \n",
        "    # TODO: save agent every 50 episodes\n",
        "    if i_episode % 50 == 0:\n",
        "      agent.save(\"ckpt\" + str(i_episode//50))\n",
        "      print(\"\\rCheckpoint\",i_episode//50, \"saved\")\n",
        "    #print logs\n",
        "    print('\\rEpisode {}\\tAverage Reward: {:.2f}\\tEpsilon: {:.2f}'.format(i_episode, np.mean(crs_recent), eps), end=\"\")\n",
        "    if i_episode % 25 == 0:\n",
        "        print('\\rEpisode {}\\tAverage Reward: {:.2f}\\tEpsilon: {:.2f}'.format(i_episode, np.mean(crs_recent), eps))\n",
        "    if (np.mean(crs_recent) and z) >=200:\n",
        "      print(\"\\nSolved\")\n",
        "      z=0\n",
        "      #break"
      ],
      "metadata": {
        "id": "SWNFamnflvZk"
      },
      "execution_count": null,
      "outputs": []
    },
    {
      "cell_type": "code",
      "source": [
        "# plot the scores\n",
        "# batch 128\n",
        "import matplotlib.pyplot as plt\n",
        "plt.figure()\n",
        "plt.plot(crs[0:i_episode])\n",
        "plt.ylabel('Score')\n",
        "plt.xlabel('Episode')\n",
        "from scipy.signal import savgol_filter\n",
        "yhat = savgol_filter(crs[0:i_episode], 51, 3) # window size 51, polynomial order 3\n",
        "plt.plot(yhat,color=\"red\")\n",
        "plt.show()"
      ],
      "metadata": {
        "colab": {
          "base_uri": "https://localhost:8080/",
          "height": 279
        },
        "id": "586arYMeHi90",
        "outputId": "ebef632d-2d3c-4065-a3ef-cb256272ce3c"
      },
      "execution_count": null,
      "outputs": [
        {
          "output_type": "display_data",
          "data": {
            "text/plain": [
              "<Figure size 432x288 with 1 Axes>"
            ],
            "image/png": "[encoded data removed]"
          },
          "metadata": {
            "needs_background": "light"
          }
        }
      ]
    },
    {
      "cell_type": "code",
      "source": [
        "import copy\n",
        "dqn_crs = copy.deepcopy(crs[0:i_episode])"
      ],
      "metadata": {
        "id": "QvkG4sDCLpp4"
      },
      "execution_count": null,
      "outputs": []
    },
    {
      "cell_type": "markdown",
      "metadata": {
        "id": "3lXfgBFOMx0G"
      },
      "source": [
        "## DDQN"
      ]
    },
    {
      "cell_type": "code",
      "execution_count": null,
      "metadata": {
        "id": "ifTBKlEigZEu"
      },
      "outputs": [],
      "source": [
        "import numpy as np\n",
        "import torch\n",
        "import torch.nn as nn\n",
        "import torch.nn.functional as F\n",
        "import torch.optim as optim\n",
        "tau=1e-3\n",
        "class DDQNAgent():\n",
        "    # NOTE: DON'T change initial values\n",
        "    def __init__(self, state_size, action_size, batch_size,\n",
        "                 gamma=0.99, buffer_size=25000, alpha=5e-4):\n",
        "        # network parameter\n",
        "        self.state_size = state_size\n",
        "        self.action_size = action_size\n",
        "\n",
        "        # hyperparameters\n",
        "        self.batch_size = batch_size\n",
        "        self.gamma = gamma\n",
        "\n",
        "        # experience replay\n",
        "        self.replay_buffer = ExperienceReplay(buffer_size)\n",
        "\n",
        "        # networks\n",
        "        self.value_net = DeepQNetwork(state_size, action_size).to(device)\n",
        "        self.target_value_net = DeepQNetwork(state_size, action_size).to(device)\n",
        "        self.update_target_network()\n",
        "\n",
        "        # optimizer\n",
        "        # TODO: create adam for optimizing network's parameter (learning rate=alpha)\n",
        "        self.optimizer = optim.Adam(self.value_net.parameters(), lr=alpha)\n",
        "        # NOTE: target network parameters DOSEN'T update with optimizer\n",
        "\n",
        "    def take_action(self, state, eps=0.0):\n",
        "        # TODO: take action using e-greedy policy\n",
        "        state = torch.from_numpy(state).float().unsqueeze(0).to(device)\n",
        "        self.value_net.eval()\n",
        "        with torch.no_grad():\n",
        "            action_values = self.value_net(state)\n",
        "        self.value_net.train()\n",
        "\n",
        "        # Epsilon-greedy action selection\n",
        "        if random.random() > eps:\n",
        "            return np.argmax(action_values.cpu().data.numpy())\n",
        "        else:\n",
        "            return random.choice(np.arange(self.action_size))\n",
        "        # NOTE: takes action using the greedy policy with a probability of 1−𝜖 and a random action with a probability of 𝜖\n",
        "        # NOTE:\n",
        "        pass\n",
        "\n",
        "    def update_params(self):\n",
        "        if len(self.replay_buffer) < self.batch_size:\n",
        "            return\n",
        "        # transition batch\n",
        "        \n",
        "        \"\"\" # gives error for my code\n",
        "        batch = Transition(*zip(*self.replay_buffer.sample(self.batch_size)))\n",
        "\n",
        "        state_batch = torch.from_numpy(np.vstack(batch.state)).float().to(device)\n",
        "        action_batch = torch.tensor(np.vstack(batch.action)).long().to(device)\n",
        "        next_state_batch = torch.from_numpy(np.vstack(batch.next_state)).float().to(device)\n",
        "        reward_batch = torch.tensor(np.vstack(batch.reward)).float().to(device)\n",
        "        done_batch = torch.tensor(np.vstack(batch.done)).to(device)\n",
        "        \"\"\"\n",
        "        bbatch=agent.replay_buffer.sample(self.batch_size)\n",
        "        batch = Transition(bbatch[0],bbatch[1],bbatch[3],bbatch[2],bbatch[4])\n",
        "        state_batch = (batch.state.cpu()).float().to(device)\n",
        "        action_batch =(batch.action.cpu()).long().to(device)\n",
        "        next_state_batch = (batch.next_state.cpu()).float().to(device)\n",
        "        reward_batch = (batch.reward.cpu()).float().to(device)\n",
        "        done_batch = (batch.done.cpu()).to(device)\n",
        "        batch = random.sample(self.replay_buffer.memory, k=self.batch_size)\n",
        "\n",
        "        # calculate loss w.r.t DQN algorithm\n",
        "\n",
        "        # STEP1\n",
        "        # TODO: compute the expected Q values [y]\n",
        "        q_expected = self.value_net(state_batch).gather(1, action_batch)\n",
        "\n",
        "        # STEP2\n",
        "        # TODO: compute Q values [Q(s_t, a)]\n",
        "        with torch.no_grad():\n",
        "                next_actions = self.value_net(next_state_batch).argmax(-1, keepdim=True)\n",
        "                maxQ = self.target_value_net(next_state_batch).gather(-1, next_actions)\n",
        "                target = reward_batch+self.gamma*maxQ*(1-done_batch)\n",
        "        # STEP3\n",
        "        # TODO: compute mse loss\n",
        "        loss = F.mse_loss(q_expected, target)\n",
        "\n",
        "        # TODO: optimize the model\n",
        "        self.optimizer.zero_grad()\n",
        "        loss.backward()\n",
        "        self.optimizer.step()\n",
        "        # NOTE: DON'T forget to set the gradients to zeros\n",
        "        self.update_target_network()\n",
        "\n",
        "    def update_target_network(self):\n",
        "        # TODO: copy main network parameters to target network parameters\n",
        "        for target_param, local_param in zip(self.target_value_net.parameters(), self.value_net.parameters()):\n",
        "          target_param.data.copy_(tau*local_param.data + (1.0-tau)*target_param.data)\n",
        "    def save(self, fname):\n",
        "        # TODO: save checkpoint\n",
        "        torch.save(agent.value_net.state_dict(), fname + \".pth\")\n",
        "\n",
        "    def load(self, fname, device):\n",
        "        # TODO: load checkpoint\n",
        "        agent.value_net.load_state_dict(torch.load(fname + \".pth\"))"
      ]
    },
    {
      "cell_type": "code",
      "source": [
        "# NOTE: DON'T change values\n",
        "n_episodes = 250\n",
        "eps = 1.0\n",
        "eps_decay_rate = 0.99\n",
        "eps_end = 0.01"
      ],
      "metadata": {
        "id": "c3sNKT4IR8nn"
      },
      "execution_count": null,
      "outputs": []
    },
    {
      "cell_type": "code",
      "execution_count": null,
      "metadata": {
        "id": "hnSaedlKjnQe",
        "colab": {
          "base_uri": "https://localhost:8080/"
        },
        "outputId": "361e227d-ae5f-431d-d2a2-5d5510b0b3d1"
      },
      "outputs": [
        {
          "output_type": "stream",
          "name": "stdout",
          "text": [
            "Episode 25\tAverage Reward: -174.03\tEpsilon: 0.78\n",
            "Episode 49\tAverage Reward: -153.58\tEpsilon: 0.61\n",
            "Checkpoint 1 saved\n",
            "Episode 50\tAverage Reward: -143.67\tEpsilon: 0.61\n",
            "Episode 75\tAverage Reward: -98.76\tEpsilon: 0.47\n",
            "Episode 99\tAverage Reward: -120.88\tEpsilon: 0.37\n",
            "Checkpoint 2 saved\n",
            "Episode 100\tAverage Reward: -121.90\tEpsilon: 0.37\n",
            "Episode 125\tAverage Reward: -21.90\tEpsilon: 0.28\n",
            "Episode 149\tAverage Reward: 76.70\tEpsilon: 0.22\n",
            "Checkpoint 3 saved\n",
            "Episode 150\tAverage Reward: 76.52\tEpsilon: 0.22\n",
            "Episode 175\tAverage Reward: 100.73\tEpsilon: 0.17\n",
            "Episode 199\tAverage Reward: 158.09\tEpsilon: 0.14\n",
            "Checkpoint 4 saved\n",
            "Episode 200\tAverage Reward: 159.54\tEpsilon: 0.13\n",
            "Episode 225\tAverage Reward: 238.12\tEpsilon: 0.10\n",
            "Episode 249\tAverage Reward: 228.24\tEpsilon: 0.08\n",
            "Checkpoint 5 saved\n",
            "Episode 250\tAverage Reward: 219.82\tEpsilon: 0.08\n"
          ]
        }
      ],
      "source": [
        "# training phase\n",
        "\n",
        "# TODO: create agent\n",
        "bs=64\n",
        "agent = DDQNAgent(state_size=8, action_size=4, batch_size=bs)\n",
        "crs = np.zeros(n_episodes) # cummulative rewards\n",
        "crs_recent = deque(maxlen=25) # recent cummulative rewards\n",
        "\n",
        "# training loop\n",
        "for i_episode in range(1, n_episodes+1):\n",
        "    # TODO: initialize the environment and state\n",
        "    state = env.reset()\n",
        "    done = 0\n",
        "    cr = 0 # episode cummulative rewards\n",
        "    while not done:\n",
        "        # TODO: select and perform an action\n",
        "        action = agent.take_action(state, eps)\n",
        "        next_state, reward, done, _ = env.step(action)\n",
        "        # TODO: store transition in experience replay\n",
        "        agent.replay_buffer.store_trans(state,action,reward,next_state,done)\n",
        "        # TODO: update agent\n",
        "        agent.update_params()\n",
        "        # TODO: update current state and episode cummulative rewards\n",
        "        cr += reward\n",
        "        state = next_state\n",
        "    # TODO: decay epsilon\n",
        "    eps = max(eps_end, eps_decay_rate*eps)\n",
        "    crs_recent.append(cr)       \n",
        "    crs[i_episode-1] = cr             \n",
        "    # TODO: save agent every 50 episodes\n",
        "    if i_episode % 50 == 0:\n",
        "      agent.save(\"ckpt\" + str(i_episode//50))\n",
        "      print(\"\\nCheckpoint\",i_episode//50, \"saved\")\n",
        "    # print logs\n",
        "    print('\\rEpisode {}\\tAverage Reward: {:.2f}\\tEpsilon: {:.2f}'.format(i_episode, np.mean(crs_recent), eps), end=\"\")\n",
        "    if i_episode % 25 == 0:\n",
        "        print('\\rEpisode {}\\tAverage Reward: {:.2f}\\tEpsilon: {:.2f}'.format(i_episode, np.mean(crs_recent), eps))"
      ]
    },
    {
      "cell_type": "code",
      "source": [
        "from google.colab import files\n",
        "files.download(\"ckpt1.pth\")\n",
        "files.download(\"ckpt2.pth\")\n",
        "files.download(\"ckpt3.pth\")\n",
        "files.download(\"ckpt4.pth\")\n",
        "files.download(\"ckpt5.pth\")"
      ],
      "metadata": {
        "colab": {
          "base_uri": "https://localhost:8080/",
          "height": 17
        },
        "id": "0pCxoK87U_sq",
        "outputId": "2576e2c0-471f-4e5c-b052-1483a3ebee85"
      },
      "execution_count": null,
      "outputs": [
        {
          "output_type": "display_data",
          "data": {
            "text/plain": [
              "<IPython.core.display.Javascript object>"
            ],
            "application/javascript": [
              "\n",
              "    async function download(id, filename, size) {\n",
              "      if (!google.colab.kernel.accessAllowed) {\n",
              "        return;\n",
              "      }\n",
              "      const div = document.createElement('div');\n",
              "      const label = document.createElement('label');\n",
              "      label.textContent = `Downloading \"${filename}\": `;\n",
              "      div.appendChild(label);\n",
              "      const progress = document.createElement('progress');\n",
              "      progress.max = size;\n",
              "      div.appendChild(progress);\n",
              "      document.body.appendChild(div);\n",
              "\n",
              "      const buffers = [];\n",
              "      let downloaded = 0;\n",
              "\n",
              "      const channel = await google.colab.kernel.comms.open(id);\n",
              "      // Send a message to notify the kernel that we're ready.\n",
              "      channel.send({})\n",
              "\n",
              "      for await (const message of channel.messages) {\n",
              "        // Send a message to notify the kernel that we're ready.\n",
              "        channel.send({})\n",
              "        if (message.buffers) {\n",
              "          for (const buffer of message.buffers) {\n",
              "            buffers.push(buffer);\n",
              "            downloaded += buffer.byteLength;\n",
              "            progress.value = downloaded;\n",
              "          }\n",
              "        }\n",
              "      }\n",
              "      const blob = new Blob(buffers, {type: 'application/binary'});\n",
              "      const a = document.createElement('a');\n",
              "      a.href = window.URL.createObjectURL(blob);\n",
              "      a.download = filename;\n",
              "      div.appendChild(a);\n",
              "      a.click();\n",
              "      div.remove();\n",
              "    }\n",
              "  "
            ]
          },
          "metadata": {}
        },
        {
          "output_type": "display_data",
          "data": {
            "text/plain": [
              "<IPython.core.display.Javascript object>"
            ],
            "application/javascript": [
              "download(\"download_a4c6e09f-a0ba-49ca-83a9-d4392d2e3346\", \"ckpt1.pth\", 21847)"
            ]
          },
          "metadata": {}
        },
        {
          "output_type": "display_data",
          "data": {
            "text/plain": [
              "<IPython.core.display.Javascript object>"
            ],
            "application/javascript": [
              "\n",
              "    async function download(id, filename, size) {\n",
              "      if (!google.colab.kernel.accessAllowed) {\n",
              "        return;\n",
              "      }\n",
              "      const div = document.createElement('div');\n",
              "      const label = document.createElement('label');\n",
              "      label.textContent = `Downloading \"${filename}\": `;\n",
              "      div.appendChild(label);\n",
              "      const progress = document.createElement('progress');\n",
              "      progress.max = size;\n",
              "      div.appendChild(progress);\n",
              "      document.body.appendChild(div);\n",
              "\n",
              "      const buffers = [];\n",
              "      let downloaded = 0;\n",
              "\n",
              "      const channel = await google.colab.kernel.comms.open(id);\n",
              "      // Send a message to notify the kernel that we're ready.\n",
              "      channel.send({})\n",
              "\n",
              "      for await (const message of channel.messages) {\n",
              "        // Send a message to notify the kernel that we're ready.\n",
              "        channel.send({})\n",
              "        if (message.buffers) {\n",
              "          for (const buffer of message.buffers) {\n",
              "            buffers.push(buffer);\n",
              "            downloaded += buffer.byteLength;\n",
              "            progress.value = downloaded;\n",
              "          }\n",
              "        }\n",
              "      }\n",
              "      const blob = new Blob(buffers, {type: 'application/binary'});\n",
              "      const a = document.createElement('a');\n",
              "      a.href = window.URL.createObjectURL(blob);\n",
              "      a.download = filename;\n",
              "      div.appendChild(a);\n",
              "      a.click();\n",
              "      div.remove();\n",
              "    }\n",
              "  "
            ]
          },
          "metadata": {}
        },
        {
          "output_type": "display_data",
          "data": {
            "text/plain": [
              "<IPython.core.display.Javascript object>"
            ],
            "application/javascript": [
              "download(\"download_fb089d05-8507-4d7d-8afe-e891f56a6ed4\", \"ckpt2.pth\", 21847)"
            ]
          },
          "metadata": {}
        },
        {
          "output_type": "display_data",
          "data": {
            "text/plain": [
              "<IPython.core.display.Javascript object>"
            ],
            "application/javascript": [
              "\n",
              "    async function download(id, filename, size) {\n",
              "      if (!google.colab.kernel.accessAllowed) {\n",
              "        return;\n",
              "      }\n",
              "      const div = document.createElement('div');\n",
              "      const label = document.createElement('label');\n",
              "      label.textContent = `Downloading \"${filename}\": `;\n",
              "      div.appendChild(label);\n",
              "      const progress = document.createElement('progress');\n",
              "      progress.max = size;\n",
              "      div.appendChild(progress);\n",
              "      document.body.appendChild(div);\n",
              "\n",
              "      const buffers = [];\n",
              "      let downloaded = 0;\n",
              "\n",
              "      const channel = await google.colab.kernel.comms.open(id);\n",
              "      // Send a message to notify the kernel that we're ready.\n",
              "      channel.send({})\n",
              "\n",
              "      for await (const message of channel.messages) {\n",
              "        // Send a message to notify the kernel that we're ready.\n",
              "        channel.send({})\n",
              "        if (message.buffers) {\n",
              "          for (const buffer of message.buffers) {\n",
              "            buffers.push(buffer);\n",
              "            downloaded += buffer.byteLength;\n",
              "            progress.value = downloaded;\n",
              "          }\n",
              "        }\n",
              "      }\n",
              "      const blob = new Blob(buffers, {type: 'application/binary'});\n",
              "      const a = document.createElement('a');\n",
              "      a.href = window.URL.createObjectURL(blob);\n",
              "      a.download = filename;\n",
              "      div.appendChild(a);\n",
              "      a.click();\n",
              "      div.remove();\n",
              "    }\n",
              "  "
            ]
          },
          "metadata": {}
        },
        {
          "output_type": "display_data",
          "data": {
            "text/plain": [
              "<IPython.core.display.Javascript object>"
            ],
            "application/javascript": [
              "download(\"download_44df91e1-6e34-422e-97d8-9fd2ee4f0713\", \"ckpt3.pth\", 21847)"
            ]
          },
          "metadata": {}
        },
        {
          "output_type": "display_data",
          "data": {
            "text/plain": [
              "<IPython.core.display.Javascript object>"
            ],
            "application/javascript": [
              "\n",
              "    async function download(id, filename, size) {\n",
              "      if (!google.colab.kernel.accessAllowed) {\n",
              "        return;\n",
              "      }\n",
              "      const div = document.createElement('div');\n",
              "      const label = document.createElement('label');\n",
              "      label.textContent = `Downloading \"${filename}\": `;\n",
              "      div.appendChild(label);\n",
              "      const progress = document.createElement('progress');\n",
              "      progress.max = size;\n",
              "      div.appendChild(progress);\n",
              "      document.body.appendChild(div);\n",
              "\n",
              "      const buffers = [];\n",
              "      let downloaded = 0;\n",
              "\n",
              "      const channel = await google.colab.kernel.comms.open(id);\n",
              "      // Send a message to notify the kernel that we're ready.\n",
              "      channel.send({})\n",
              "\n",
              "      for await (const message of channel.messages) {\n",
              "        // Send a message to notify the kernel that we're ready.\n",
              "        channel.send({})\n",
              "        if (message.buffers) {\n",
              "          for (const buffer of message.buffers) {\n",
              "            buffers.push(buffer);\n",
              "            downloaded += buffer.byteLength;\n",
              "            progress.value = downloaded;\n",
              "          }\n",
              "        }\n",
              "      }\n",
              "      const blob = new Blob(buffers, {type: 'application/binary'});\n",
              "      const a = document.createElement('a');\n",
              "      a.href = window.URL.createObjectURL(blob);\n",
              "      a.download = filename;\n",
              "      div.appendChild(a);\n",
              "      a.click();\n",
              "      div.remove();\n",
              "    }\n",
              "  "
            ]
          },
          "metadata": {}
        },
        {
          "output_type": "display_data",
          "data": {
            "text/plain": [
              "<IPython.core.display.Javascript object>"
            ],
            "application/javascript": [
              "download(\"download_015149a6-61a3-4517-a582-b42a3053610a\", \"ckpt4.pth\", 21847)"
            ]
          },
          "metadata": {}
        },
        {
          "output_type": "display_data",
          "data": {
            "text/plain": [
              "<IPython.core.display.Javascript object>"
            ],
            "application/javascript": [
              "\n",
              "    async function download(id, filename, size) {\n",
              "      if (!google.colab.kernel.accessAllowed) {\n",
              "        return;\n",
              "      }\n",
              "      const div = document.createElement('div');\n",
              "      const label = document.createElement('label');\n",
              "      label.textContent = `Downloading \"${filename}\": `;\n",
              "      div.appendChild(label);\n",
              "      const progress = document.createElement('progress');\n",
              "      progress.max = size;\n",
              "      div.appendChild(progress);\n",
              "      document.body.appendChild(div);\n",
              "\n",
              "      const buffers = [];\n",
              "      let downloaded = 0;\n",
              "\n",
              "      const channel = await google.colab.kernel.comms.open(id);\n",
              "      // Send a message to notify the kernel that we're ready.\n",
              "      channel.send({})\n",
              "\n",
              "      for await (const message of channel.messages) {\n",
              "        // Send a message to notify the kernel that we're ready.\n",
              "        channel.send({})\n",
              "        if (message.buffers) {\n",
              "          for (const buffer of message.buffers) {\n",
              "            buffers.push(buffer);\n",
              "            downloaded += buffer.byteLength;\n",
              "            progress.value = downloaded;\n",
              "          }\n",
              "        }\n",
              "      }\n",
              "      const blob = new Blob(buffers, {type: 'application/binary'});\n",
              "      const a = document.createElement('a');\n",
              "      a.href = window.URL.createObjectURL(blob);\n",
              "      a.download = filename;\n",
              "      div.appendChild(a);\n",
              "      a.click();\n",
              "      div.remove();\n",
              "    }\n",
              "  "
            ]
          },
          "metadata": {}
        },
        {
          "output_type": "display_data",
          "data": {
            "text/plain": [
              "<IPython.core.display.Javascript object>"
            ],
            "application/javascript": [
              "download(\"download_c8bc543c-6d26-4d83-87ef-41e042230850\", \"ckpt5.pth\", 21847)"
            ]
          },
          "metadata": {}
        }
      ]
    },
    {
      "cell_type": "code",
      "source": [
        "# plot the scores\n",
        "# batch 64\n",
        "import matplotlib.pyplot as plt\n",
        "plt.figure()\n",
        "plt.plot(crs[0:i_episode])\n",
        "plt.ylabel('Score')\n",
        "plt.xlabel('Episode')\n",
        "from scipy.signal import savgol_filter\n",
        "yhat = savgol_filter(crs[0:i_episode], 51, 3) # window size 51, polynomial order 3\n",
        "plt.title(\"DDQN\")\n",
        "plt.plot(yhat,color=\"red\")\n",
        "plt.show()"
      ],
      "metadata": {
        "colab": {
          "base_uri": "https://localhost:8080/",
          "height": 295
        },
        "id": "SaxltedkVAzB",
        "outputId": "6bc178ad-4ffe-40da-9ee1-3c7b55610a6d"
      },
      "execution_count": null,
      "outputs": [
        {
          "output_type": "display_data",
          "data": {
            "text/plain": [
              "<Figure size 432x288 with 1 Axes>"
            ],
            "image/png": "[encoded data removed]"
          },
          "metadata": {
            "needs_background": "light"
          }
        }
      ]
    },
    {
      "cell_type": "code",
      "source": [
        "# plot the scores\n",
        "# batch 64\n",
        "from scipy.signal import savgol_filter\n",
        "yhat1 = savgol_filter(dqn_crs[0:i_episode], 51, 3) # window size 51, polynomial order 3\n",
        "yhat2 = savgol_filter(crs[0:i_episode], 51, 3) # window size 51, polynomial order 3\n",
        "plt.plot(yhat1,color=\"blue\")\n",
        "plt.plot(yhat2,color=\"red\")\n",
        "plt.legend([\"DQN Score\",\"DDQN Score\"])\n",
        "plt.ylabel('Score')\n",
        "plt.xlabel('Episode')\n",
        "plt.show()"
      ],
      "metadata": {
        "colab": {
          "base_uri": "https://localhost:8080/",
          "height": 279
        },
        "id": "jSXfYPtSR0Xl",
        "outputId": "1e2d3511-6236-46c3-ca6b-6b010ce0a361"
      },
      "execution_count": null,
      "outputs": [
        {
          "output_type": "display_data",
          "data": {
            "text/plain": [
              "<Figure size 432x288 with 1 Axes>"
            ],
            "image/png": "[encoded data removed]"
          },
          "metadata": {
            "needs_background": "light"
          }
        }
      ]
    }
  ],
  "metadata": {
    "colab": {
      "collapsed_sections": [],
      "name": "DQN_LunarLander.ipynb",
      "provenance": [],
      "toc_visible": true
    },
    "kernelspec": {
      "display_name": "Python 3",
      "name": "python3"
    },
    "language_info": {
      "name": "python"
    }
  },
  "nbformat": 4,
  "nbformat_minor": 0
}